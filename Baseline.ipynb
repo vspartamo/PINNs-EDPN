{
 "cells": [
  {
   "cell_type": "markdown",
   "metadata": {},
   "source": [
    "## Physics-informed neural networks\n",
    "\n",
    "## Descripción desde Towards to data science\n",
    "\n",
    "Over the last decades, artificial neural networks have been used to solve problems in varied applied domains such as computer vision, natural language processing and many more. Recently, another very promising application has emerged in the scientific machine learning (ML) community: the solution of partial differential equations (PDEs) using artificial neural networks, with an approach normally referred to as physics-informed neural networks (PINNs). PINNs have been originally introduced in the seminal work in [1] and today they are not limited anymore to a pure research topic but are gaining traction in industry as well, enough to enter the famous Gartner hype cycle for emerging technologies in 2021.\n",
    "\n",
    "PDEs play a crucial role in many fields of engineering and fundamental science ranging from fluid dynamics to acoustic and structural engineering. Finite elements modeling (FEM) methods are the standard solvers employed ubiquitously in the industry. Despite their popularity, FEM methods display some limitations such as their computational cost for large industrial problems (mainly due to the required mesh size) and issues in leveraging external data sources, such as sensors data, to drive the solution of the PDEs.\n",
    "\n",
    "The PINNs approach discussed in this post is regarded as a promising alternative to FEM methods for covering some of these limitations. This approach is quite different from the standard supervised ML. In fact, instead of relying purely on data, it uses the physical properties of the PDE itself to guide the training process. Known data points can be easily added on top of the physics-based loss function to speed-up training speed.\n",
    "\n",
    "LINK: https://towardsdatascience.com/solving-differential-equations-with-neural-networks-afdcf7b8bcc4"
   ]
  },
  {
   "cell_type": "markdown",
   "metadata": {},
   "source": [
    "## Descripción desde el abstract del paper inicial \n",
    "\n",
    "We introduce physics-informed neural networks – neural networks that are trained to solve\n",
    "supervised learning tasks while respecting any given laws of physics described by general\n",
    "nonlinear partial differential equations. In this work, we present our developments in the\n",
    "context of solving two main classes of problems: data-driven solution and data-driven\n",
    "discovery of partial differential equations. Depending on the nature and arrangement of\n",
    "the available data, we devise two distinct types of algorithms, namely continuous time\n",
    "and discrete time models. The first type of models forms a new family of data-efficient\n",
    "spatio-temporal function approximators, while the latter type allows the use of arbitrarily\n",
    "accurate implicit Runge–Kutta time stepping schemes with unlimited number of stages. The\n",
    "effectiveness of the proposed framework is demonstrated through a collection of classical\n",
    "problems in fluids, quantum mechanics, reaction–diffusion systems, and the propagation of\n",
    "nonlinear shallow-water waves."
   ]
  },
  {
   "cell_type": "markdown",
   "metadata": {},
   "source": [
    "# Descripción con textos anteriores y Gemini\n",
    "\n",
    "## Introducción al proyecto: Redes neuronales informadas por la física (PINNs)\n",
    "\n",
    "En los últimos años, las redes neuronales artificiales (ANNs) se han convertido en una poderosa herramienta para resolver problemas complejos en diversos dominios científicos y de ingeniería. Una aplicación particularmente prometedora es el uso de ANNs para resolver ecuaciones diferenciales parciales (EDPs), un enfoque conocido como redes neuronales informadas por la física (PINNs). Introducidas en [1], las PINNs ofrecen una alternativa convincente a los métodos tradicionales como el modelado por elementos finitos (FEM) para resolver EDPs. Si bien el FEM se usa ampliamente en la industria, puede ser computacionalmente costoso para problemas grandes y tener dificultades para incorporar fuentes de datos externas como las mediciones de sensores. Las PINNs abordan estas limitaciones al combinar el aprendizaje basado en datos con las leyes físicas rectoras encapsuladas en las EDPs mismas. Esto permite que las PINNs no solo aprendan de los datos disponibles, sino que también aprovechen la física inherente para guiar el proceso de entrenamiento. Este enfoque único tiene un gran potencial para diversos campos, que incluyen la dinámica de fluidos, la acústica, la ingeniería estructural y más.\n",
    "\n",
    "* **Dinámica de fluidos:** Simulación de flujo de fluidos, como el flujo de aire alrededor de un ala de avión o el flujo de agua en una tubería.\n",
    "* **Acústica:** Modelado de propagación de ondas sonoras, como el diseño de salas de conciertos o la reducción de ruido en motores.\n",
    "* **Ingeniería estructural:** Análisis de tensiones y deformaciones en estructuras, como puentes, edificios y aviones.\n",
    "* **Mecánica cuántica:** Simulación de sistemas cuánticos, como el comportamiento de átomos y moléculas.\n",
    "* **Sistemas de reacción-difusión:** Modelado de reacciones químicas y difusión, como el crecimiento de cristales o la corrosión de metales.\n",
    "* **Propagación de ondas de aguas poco profundas no lineales:** Simulación de olas en el océano, como olas generadas por tormentas o tsunamis.\n"
   ]
  },
  {
   "cell_type": "code",
   "execution_count": null,
   "metadata": {},
   "outputs": [],
   "source": []
  }
 ],
 "metadata": {
  "language_info": {
   "name": "python"
  }
 },
 "nbformat": 4,
 "nbformat_minor": 2
}
